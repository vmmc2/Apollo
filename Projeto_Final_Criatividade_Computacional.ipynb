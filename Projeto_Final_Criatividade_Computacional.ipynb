{
  "cells": [
    {
      "cell_type": "markdown",
      "metadata": {
        "id": "mrx4EFnedzpH"
      },
      "source": [
        "# Projeto Final"
      ]
    },
    {
      "cell_type": "markdown",
      "metadata": {
        "id": "pdmsq8fKd3Au"
      },
      "source": [
        "## Instalação de Pacotes"
      ]
    },
    {
      "cell_type": "code",
      "execution_count": 3,
      "metadata": {
        "colab": {
          "base_uri": "https://localhost:8080/"
        },
        "id": "36-jNa2QdtrA",
        "outputId": "ab24e890-b645-47f5-c86a-9db4077dfc67"
      },
      "outputs": [
        {
          "output_type": "stream",
          "name": "stdout",
          "text": [
            "imageRequirement already satisfied: gradio in /usr/local/lib/python3.10/dist-packages (4.19.2)\n",
            "Requirement already satisfied: aiofiles<24.0,>=22.0 in /usr/local/lib/python3.10/dist-packages (from gradio) (23.2.1)\n",
            "Requirement already satisfied: altair<6.0,>=4.2.0 in /usr/local/lib/python3.10/dist-packages (from gradio) (4.2.2)\n",
            "Requirement already satisfied: fastapi in /usr/local/lib/python3.10/dist-packages (from gradio) (0.109.2)\n",
            "Requirement already satisfied: ffmpy in /usr/local/lib/python3.10/dist-packages (from gradio) (0.3.2)\n",
            "Requirement already satisfied: gradio-client==0.10.1 in /usr/local/lib/python3.10/dist-packages (from gradio) (0.10.1)\n",
            "Requirement already satisfied: httpx>=0.24.1 in /usr/local/lib/python3.10/dist-packages (from gradio) (0.27.0)\n",
            "Requirement already satisfied: huggingface-hub>=0.19.3 in /usr/local/lib/python3.10/dist-packages (from gradio) (0.20.3)\n",
            "Requirement already satisfied: importlib-resources<7.0,>=1.3 in /usr/local/lib/python3.10/dist-packages (from gradio) (6.1.1)\n",
            "Requirement already satisfied: jinja2<4.0 in /usr/local/lib/python3.10/dist-packages (from gradio) (3.1.3)\n",
            "Requirement already satisfied: markupsafe~=2.0 in /usr/local/lib/python3.10/dist-packages (from gradio) (2.1.5)\n",
            "Requirement already satisfied: matplotlib~=3.0 in /usr/local/lib/python3.10/dist-packages (from gradio) (3.7.1)\n",
            "Requirement already satisfied: numpy~=1.0 in /usr/local/lib/python3.10/dist-packages (from gradio) (1.25.2)\n",
            "Requirement already satisfied: orjson~=3.0 in /usr/local/lib/python3.10/dist-packages (from gradio) (3.9.14)\n",
            "Requirement already satisfied: packaging in /usr/local/lib/python3.10/dist-packages (from gradio) (23.2)\n",
            "Requirement already satisfied: pandas<3.0,>=1.0 in /usr/local/lib/python3.10/dist-packages (from gradio) (1.5.3)\n",
            "Requirement already satisfied: pillow<11.0,>=8.0 in /usr/local/lib/python3.10/dist-packages (from gradio) (9.4.0)\n",
            "Requirement already satisfied: pydantic>=2.0 in /usr/local/lib/python3.10/dist-packages (from gradio) (2.6.1)\n",
            "Requirement already satisfied: pydub in /usr/local/lib/python3.10/dist-packages (from gradio) (0.25.1)\n",
            "Requirement already satisfied: python-multipart>=0.0.9 in /usr/local/lib/python3.10/dist-packages (from gradio) (0.0.9)\n",
            "Requirement already satisfied: pyyaml<7.0,>=5.0 in /usr/local/lib/python3.10/dist-packages (from gradio) (6.0.1)\n",
            "Requirement already satisfied: ruff>=0.2.2 in /usr/local/lib/python3.10/dist-packages (from gradio) (0.2.2)\n",
            "Requirement already satisfied: semantic-version~=2.0 in /usr/local/lib/python3.10/dist-packages (from gradio) (2.10.0)\n",
            "Requirement already satisfied: tomlkit==0.12.0 in /usr/local/lib/python3.10/dist-packages (from gradio) (0.12.0)\n",
            "Requirement already satisfied: typer[all]<1.0,>=0.9 in /usr/local/lib/python3.10/dist-packages (from gradio) (0.9.0)\n",
            "Requirement already satisfied: typing-extensions~=4.0 in /usr/local/lib/python3.10/dist-packages (from gradio) (4.9.0)\n",
            "Requirement already satisfied: uvicorn>=0.14.0 in /usr/local/lib/python3.10/dist-packages (from gradio) (0.27.1)\n",
            "Requirement already satisfied: fsspec in /usr/local/lib/python3.10/dist-packages (from gradio-client==0.10.1->gradio) (2023.6.0)\n",
            "Requirement already satisfied: websockets<12.0,>=10.0 in /usr/local/lib/python3.10/dist-packages (from gradio-client==0.10.1->gradio) (11.0.3)\n",
            "Requirement already satisfied: entrypoints in /usr/local/lib/python3.10/dist-packages (from altair<6.0,>=4.2.0->gradio) (0.4)\n",
            "Requirement already satisfied: jsonschema>=3.0 in /usr/local/lib/python3.10/dist-packages (from altair<6.0,>=4.2.0->gradio) (4.19.2)\n",
            "Requirement already satisfied: toolz in /usr/local/lib/python3.10/dist-packages (from altair<6.0,>=4.2.0->gradio) (0.12.1)\n",
            "Requirement already satisfied: anyio in /usr/local/lib/python3.10/dist-packages (from httpx>=0.24.1->gradio) (3.7.1)\n",
            "Requirement already satisfied: certifi in /usr/local/lib/python3.10/dist-packages (from httpx>=0.24.1->gradio) (2024.2.2)\n",
            "Requirement already satisfied: httpcore==1.* in /usr/local/lib/python3.10/dist-packages (from httpx>=0.24.1->gradio) (1.0.4)\n",
            "Requirement already satisfied: idna in /usr/local/lib/python3.10/dist-packages (from httpx>=0.24.1->gradio) (3.6)\n",
            "Requirement already satisfied: sniffio in /usr/local/lib/python3.10/dist-packages (from httpx>=0.24.1->gradio) (1.3.0)\n",
            "Requirement already satisfied: h11<0.15,>=0.13 in /usr/local/lib/python3.10/dist-packages (from httpcore==1.*->httpx>=0.24.1->gradio) (0.14.0)\n",
            "Requirement already satisfied: filelock in /usr/local/lib/python3.10/dist-packages (from huggingface-hub>=0.19.3->gradio) (3.13.1)\n",
            "Requirement already satisfied: requests in /usr/local/lib/python3.10/dist-packages (from huggingface-hub>=0.19.3->gradio) (2.31.0)\n",
            "Requirement already satisfied: tqdm>=4.42.1 in /usr/local/lib/python3.10/dist-packages (from huggingface-hub>=0.19.3->gradio) (4.66.2)\n",
            "Requirement already satisfied: contourpy>=1.0.1 in /usr/local/lib/python3.10/dist-packages (from matplotlib~=3.0->gradio) (1.2.0)\n",
            "Requirement already satisfied: cycler>=0.10 in /usr/local/lib/python3.10/dist-packages (from matplotlib~=3.0->gradio) (0.12.1)\n",
            "Requirement already satisfied: fonttools>=4.22.0 in /usr/local/lib/python3.10/dist-packages (from matplotlib~=3.0->gradio) (4.49.0)\n",
            "Requirement already satisfied: kiwisolver>=1.0.1 in /usr/local/lib/python3.10/dist-packages (from matplotlib~=3.0->gradio) (1.4.5)\n",
            "Requirement already satisfied: pyparsing>=2.3.1 in /usr/local/lib/python3.10/dist-packages (from matplotlib~=3.0->gradio) (3.1.1)\n",
            "Requirement already satisfied: python-dateutil>=2.7 in /usr/local/lib/python3.10/dist-packages (from matplotlib~=3.0->gradio) (2.8.2)\n",
            "Requirement already satisfied: pytz>=2020.1 in /usr/local/lib/python3.10/dist-packages (from pandas<3.0,>=1.0->gradio) (2023.4)\n",
            "Requirement already satisfied: annotated-types>=0.4.0 in /usr/local/lib/python3.10/dist-packages (from pydantic>=2.0->gradio) (0.6.0)\n",
            "Requirement already satisfied: pydantic-core==2.16.2 in /usr/local/lib/python3.10/dist-packages (from pydantic>=2.0->gradio) (2.16.2)\n",
            "Requirement already satisfied: click<9.0.0,>=7.1.1 in /usr/local/lib/python3.10/dist-packages (from typer[all]<1.0,>=0.9->gradio) (8.1.7)\n",
            "Requirement already satisfied: colorama<0.5.0,>=0.4.3 in /usr/local/lib/python3.10/dist-packages (from typer[all]<1.0,>=0.9->gradio) (0.4.6)\n",
            "Requirement already satisfied: shellingham<2.0.0,>=1.3.0 in /usr/local/lib/python3.10/dist-packages (from typer[all]<1.0,>=0.9->gradio) (1.5.4)\n",
            "Requirement already satisfied: rich<14.0.0,>=10.11.0 in /usr/local/lib/python3.10/dist-packages (from typer[all]<1.0,>=0.9->gradio) (13.7.0)\n",
            "Requirement already satisfied: starlette<0.37.0,>=0.36.3 in /usr/local/lib/python3.10/dist-packages (from fastapi->gradio) (0.36.3)\n",
            "Requirement already satisfied: attrs>=22.2.0 in /usr/local/lib/python3.10/dist-packages (from jsonschema>=3.0->altair<6.0,>=4.2.0->gradio) (23.2.0)\n",
            "Requirement already satisfied: jsonschema-specifications>=2023.03.6 in /usr/local/lib/python3.10/dist-packages (from jsonschema>=3.0->altair<6.0,>=4.2.0->gradio) (2023.12.1)\n",
            "Requirement already satisfied: referencing>=0.28.4 in /usr/local/lib/python3.10/dist-packages (from jsonschema>=3.0->altair<6.0,>=4.2.0->gradio) (0.33.0)\n",
            "Requirement already satisfied: rpds-py>=0.7.1 in /usr/local/lib/python3.10/dist-packages (from jsonschema>=3.0->altair<6.0,>=4.2.0->gradio) (0.18.0)\n",
            "Requirement already satisfied: six>=1.5 in /usr/local/lib/python3.10/dist-packages (from python-dateutil>=2.7->matplotlib~=3.0->gradio) (1.16.0)\n",
            "Requirement already satisfied: markdown-it-py>=2.2.0 in /usr/local/lib/python3.10/dist-packages (from rich<14.0.0,>=10.11.0->typer[all]<1.0,>=0.9->gradio) (3.0.0)\n",
            "Requirement already satisfied: pygments<3.0.0,>=2.13.0 in /usr/local/lib/python3.10/dist-packages (from rich<14.0.0,>=10.11.0->typer[all]<1.0,>=0.9->gradio) (2.16.1)\n",
            "Requirement already satisfied: exceptiongroup in /usr/local/lib/python3.10/dist-packages (from anyio->httpx>=0.24.1->gradio) (1.2.0)\n",
            "Requirement already satisfied: charset-normalizer<4,>=2 in /usr/local/lib/python3.10/dist-packages (from requests->huggingface-hub>=0.19.3->gradio) (3.3.2)\n",
            "Requirement already satisfied: urllib3<3,>=1.21.1 in /usr/local/lib/python3.10/dist-packages (from requests->huggingface-hub>=0.19.3->gradio) (2.0.7)\n",
            "Requirement already satisfied: mdurl~=0.1 in /usr/local/lib/python3.10/dist-packages (from markdown-it-py>=2.2.0->rich<14.0.0,>=10.11.0->typer[all]<1.0,>=0.9->gradio) (0.1.2)\n"
          ]
        }
      ],
      "source": [
        "!pip install gradio"
      ]
    },
    {
      "cell_type": "code",
      "source": [
        "!pip install -q -U google-generativeai"
      ],
      "metadata": {
        "id": "ncqcmYTeQAIe"
      },
      "execution_count": 4,
      "outputs": []
    },
    {
      "cell_type": "markdown",
      "source": [
        "## Importação de Pacotes"
      ],
      "metadata": {
        "id": "29iMotWqQFEE"
      }
    },
    {
      "cell_type": "code",
      "execution_count": 5,
      "metadata": {
        "id": "ju6BxWlLeBwG"
      },
      "outputs": [],
      "source": [
        "import pathlib\n",
        "import textwrap\n",
        "import PIL.Image\n",
        "import gradio as gr\n",
        "from google.colab import userdata\n",
        "import google.generativeai as genai\n",
        "from IPython.display import display\n",
        "from IPython.display import Markdown"
      ]
    },
    {
      "cell_type": "markdown",
      "source": [
        "## Implementação do App"
      ],
      "metadata": {
        "id": "GUZsDHdkQnJn"
      }
    },
    {
      "cell_type": "code",
      "source": [
        "GEMINI_API_KEY = userdata.get(\"GEMINI_API_KEY\")\n",
        "\n",
        "genai.configure(api_key=GEMINI_API_KEY)"
      ],
      "metadata": {
        "id": "pOl14M8uPayd"
      },
      "execution_count": 6,
      "outputs": []
    },
    {
      "cell_type": "code",
      "execution_count": 9,
      "metadata": {
        "id": "fv3yOLns0ldK"
      },
      "outputs": [],
      "source": [
        "class GeminiWrapper:\n",
        "    \"\"\"Wrapper class for interacting with the Google Gemini API.\"\"\"\n",
        "\n",
        "    def __init__(self):\n",
        "        \"\"\"\n",
        "        Initializes the wrapper with your Google Gemini API key.\n",
        "        \"\"\"\n",
        "\n",
        "        self.model = genai.GenerativeModel('gemini-pro-vision')\n",
        "        return\n",
        "\n",
        "    def image_to_text(self, image):\n",
        "        \"\"\"\n",
        "        Gets a detailed description of a given image using the Gemini API.\n",
        "\n",
        "        Args:\n",
        "        image: An image in the format () whose description will be obtained by the use of the Gemini API as a string.\n",
        "\n",
        "        Returns:\n",
        "        The detailed description of the uploaded image as a string.\n",
        "\n",
        "        Raises:\n",
        "        Exception: If the API request fails.\n",
        "        \"\"\"\n",
        "        image = PIL.Image.fromarray(image)\n",
        "        description_prompt = \"Please, provide a very detailed description, in English, about the image that is being sent.\"\n",
        "        response = self.model.generate_content([description_prompt, image])\n",
        "        return response.text\n",
        "\n",
        "    def text_to_sentiment(self, image_description):\n",
        "        \"\"\"\n",
        "        Gets the general vibe or sentiment of a given image description as text by using the Gemini API.\n",
        "\n",
        "        Args:\n",
        "        image: An image in the format () whose description will be obtained by the use of the Gemini API as a string.\n",
        "\n",
        "        Returns:\n",
        "        The detailed description of the uploaded image as a string.\n",
        "\n",
        "        Raises:\n",
        "        Exception: If the API request fails.\n",
        "        \"\"\"\n",
        "        return"
      ]
    },
    {
      "cell_type": "code",
      "execution_count": 11,
      "metadata": {
        "colab": {
          "base_uri": "https://localhost:8080/",
          "height": 648
        },
        "id": "3oC4b4dD0lwb",
        "outputId": "de6debc2-da98-4470-b366-fd5203398a1a"
      },
      "outputs": [
        {
          "output_type": "stream",
          "name": "stdout",
          "text": [
            "Colab notebook detected. This cell will run indefinitely so that you can see errors and logs. To turn off, set debug=False in launch().\n",
            "Running on public URL: https://0dec9511c7d8675657.gradio.live\n",
            "\n",
            "This share link expires in 72 hours. For free permanent hosting and GPU upgrades, run `gradio deploy` from Terminal to deploy to Spaces (https://huggingface.co/spaces)\n"
          ]
        },
        {
          "output_type": "display_data",
          "data": {
            "text/plain": [
              "<IPython.core.display.HTML object>"
            ],
            "text/html": [
              "<div><iframe src=\"https://0dec9511c7d8675657.gradio.live\" width=\"100%\" height=\"500\" allow=\"autoplay; camera; microphone; clipboard-read; clipboard-write;\" frameborder=\"0\" allowfullscreen></iframe></div>"
            ]
          },
          "metadata": {}
        },
        {
          "output_type": "stream",
          "name": "stdout",
          "text": [
            "Keyboard interruption in main thread... closing server.\n",
            "Killing tunnel 127.0.0.1:7860 <> https://0dec9511c7d8675657.gradio.live\n"
          ]
        },
        {
          "output_type": "execute_result",
          "data": {
            "text/plain": []
          },
          "metadata": {},
          "execution_count": 11
        }
      ],
      "source": [
        "\"\"\"\n",
        "If your function accepts more than one argument, as is the case above, pass a list of input components to inputs,\n",
        "with each input component corresponding to one of the arguments of the function, in order.\n",
        "The same holds true if your function returns more than one value: simply pass in a list of components to outputs.\n",
        "\"\"\"\n",
        "\n",
        "def get_num_tracks(number_of_tracks, album_vibe_image, track_description_1, track_description_2, track_description_3, track_description_4, track_description_5, track_description_6):\n",
        "    if not isinstance(number_of_tracks, int) or number_of_tracks < 1 or number_of_tracks > 6:\n",
        "        raise gr.Error(\"Please enter an integer between 1 and 6.\")\n",
        "    else:\n",
        "        gemini = GeminiWrapper()\n",
        "        image_description = gemini.image_to_text(album_vibe_image)\n",
        "        return [image_description, None, None]\n",
        "\n",
        "# The Interface class is designed to create demos for machine learning models which accept one or more inputs, and return one or more outputs.\n",
        "apollo_demo = gr.Interface(\n",
        "    description=\"\"\"\n",
        "    # Apollo\n",
        "\n",
        "    ### O que é?\n",
        "    * Apollo é uma ferramenta simples para geração de álbuns/EPs que segue as instruções fornecidas pelo usuário.\n",
        "    * Basta fornecer algumas entradas específicas, explicadas abaixo, e, ao final do processo, você obterá o álbum/EP como resultado.\n",
        "\n",
        "    ### Entradas\n",
        "    * __Quantidade de Faixas do Álbum/EP:__ O número de músicas que o usuário deseja que o produto final tenha. Deve estar entre 1 e 6.\n",
        "    * __Imagem que representa a vibe do Álbum/EP:__ Uma imagem que será usada para extrair o \"sentimento geral\" que o álbum deseja transmitir para os ouvintes.\n",
        "    * __Descrição da Faixa [1|2|3|4|5|6]:__ Uma descrição textual individual a respeito de cada faixa do álbum/EP. Aqui, o usuário tem total liberdade para descrever como quer que uma faixa específica do álbum seja. O usuário pode descrever o uso de instrumentos musicais, a maneira como os intrumentos devem ser tocados, a intensidade e ritmo de cada um. Além disso, pode citar influências de gêneros musicais, artistas, bandas. O limite é a sua imaginação! E, lembre-se, quanto mais detalhado, melhor!\n",
        "\n",
        "    ### Saídas\n",
        "    * __Nome do Artista:__ O nome do artista/banda que produziu o álbum/EP gerado, escolhido cuidadosamente pelo deus Apollo pessoalmente.\n",
        "    * __Nome do Álbum/EP:__ O nome do álbum/EP gerado, escolhido cuidadosamente pelo deus Apollo pessoalmente.\n",
        "    * __Capa do Álbum:__ A capa do álbum/EP gerado, ilustrada exclusivamente pelo próprio Apollo.\n",
        "    * __Faixas:__ TBD\n",
        "\n",
        "    \"\"\",\n",
        "    fn=get_num_tracks, # You can pass any function that you want to wrap with a UI. Here, we saw a simple function, but it could be anything from a music generator to the prediction function of a pretrained machine learning model.\n",
        "    inputs=[\n",
        "        gr.Number(label=\"Quantidade de Faixas do Álbum/EP\"),\n",
        "        gr.Image(label=\"Imagem que representa a 'vibe' do Álbum/EP\"),\n",
        "        gr.Textbox(lines=3, max_lines=10, label=\"Descrição da Faixa 1\"),\n",
        "        gr.Textbox(lines=3, max_lines=10, label=\"Descrição da Faixa 2\"),\n",
        "        gr.Textbox(lines=3, max_lines=10, label=\"Descrição da Faixa 3\"),\n",
        "        gr.Textbox(lines=3, max_lines=10, label=\"Descrição da Faixa 4\"),\n",
        "        gr.Textbox(lines=3, max_lines=10, label=\"Descrição da Faixa 5\"),\n",
        "        gr.Textbox(lines=3, max_lines=10, label=\"Descrição da Faixa 6\"),\n",
        "    ],\n",
        "    outputs=[\n",
        "        gr.Textbox(lines=3, max_lines=10, label=\"Image Description\"),\n",
        "        gr.Textbox(lines=1, max_lines=1, label=\"Nome do Álbum/EP\"),\n",
        "        gr.Image(label=\"Capa do Álbum/EP\")\n",
        "    ],\n",
        "    allow_flagging=\"never\",\n",
        "    clear_btn=gr.Button(visible=False),\n",
        "    submit_btn=gr.Button(value=\"Gerar\"),\n",
        ")\n",
        "\n",
        "\n",
        "apollo_demo.launch(debug=True, share=True)"
      ]
    }
  ],
  "metadata": {
    "colab": {
      "provenance": []
    },
    "kernelspec": {
      "display_name": "Python 3",
      "name": "python3"
    },
    "language_info": {
      "name": "python"
    }
  },
  "nbformat": 4,
  "nbformat_minor": 0
}